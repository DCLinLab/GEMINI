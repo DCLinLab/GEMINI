{
 "cells": [
  {
   "metadata": {},
   "cell_type": "markdown",
   "source": "# Display 3D neuron with crystals",
   "id": "de8ee68208b4d807"
  },
  {
   "metadata": {},
   "cell_type": "markdown",
   "source": "Load img",
   "id": "7335691f6bf1301a"
  },
  {
   "cell_type": "code",
   "id": "c8020f4340155ca8",
   "metadata": {
    "ExecuteTime": {
     "end_time": "2025-06-24T02:00:56.358064Z",
     "start_time": "2025-06-24T02:00:20.265161Z"
    }
   },
   "source": [
    "import nrrd\n",
    "lab_n, _ = nrrd.read(r\"D:\\Zuohan\\neuron\\neuron.nrrd\")\n",
    "lab_c, _ = nrrd.read(r\"D:\\Zuohan\\neuron\\crystal.nrrd\")\n",
    "\n",
    "import yaml\n",
    "from CrystalTracer3D.io import CrystalReader\n",
    "with open('config.yml', 'r') as ymlfile:\n",
    "    cfg = yaml.safe_load(ymlfile)\n",
    "    slice_range = cfg['data']['range']\n",
    "reader = CrystalReader(cfg['data']['path'])\n",
    "ch = reader.find_channel(cfg['data']['neuron'])\n",
    "img_n = reader.read(ch)[slice_range[0]:slice_range[1]]\n",
    "ch = reader.find_channel(cfg['data']['crystal'])\n",
    "img_c = reader.read(ch)[slice_range[0]:slice_range[1]]\n"
   ],
   "outputs": [],
   "execution_count": 4
  },
  {
   "metadata": {
    "ExecuteTime": {
     "end_time": "2025-06-24T01:47:37.247812Z",
     "start_time": "2025-06-24T01:45:48.374851Z"
    }
   },
   "cell_type": "code",
   "source": [
    "from skimage.segmentation import expand_labels\n",
    "lab_n = expand_labels(lab_n, 1, spacing=reader.resolution)"
   ],
   "id": "9c35c8688351190e",
   "outputs": [],
   "execution_count": 2
  },
  {
   "metadata": {},
   "cell_type": "markdown",
   "source": "# raw image only",
   "id": "35d5c5150de60694"
  },
  {
   "metadata": {
    "ExecuteTime": {
     "end_time": "2025-06-24T02:01:00.582443Z",
     "start_time": "2025-06-24T02:00:56.390921Z"
    }
   },
   "cell_type": "code",
   "source": [
    "import napari\n",
    "import numpy as np\n",
    "viewer = napari.Viewer(ndisplay=3)\n",
    "layers = viewer.add_image(np.stack([img_n, img_c]), channel_axis=0, name=['neuron', 'crystal'], colormap=[\"green\", \"red\"], blending=['translucent', \"additive\"], scale=reader.resolution)\n",
    "layers[0].contrast_limits = [3587.828571428571, 14532.678571428572]\n",
    "layers[1].contrast_limits = [6869.25, 38216.67857142857]\n",
    "bbox = layers[0].bounding_box\n",
    "bbox.visible = True\n",
    "bbox.line_color = 'white'\n",
    "bbox.line_thickness = 2\n",
    "bbox.point_size = 0\n",
    "bbox = layers[1].bounding_box\n",
    "bbox.visible = True\n",
    "bbox.line_color = 'white'\n",
    "bbox.line_thickness = 2\n",
    "bbox.point_size = 0\n",
    "viewer.camera.perspective = 30\n",
    "viewer.camera.zoom = 5\n",
    "viewer.camera.angles = (-1.5, 20, 85)\n",
    "viewer.scale_bar.visible = True\n",
    "viewer.scale_bar.unit = 'μm'\n",
    "viewer.scale_bar.length = 20\n",
    "viewer.scale_bar.font_size *= 1.5"
   ],
   "id": "a0f965a5ae3b68a9",
   "outputs": [],
   "execution_count": 5
  },
  {
   "metadata": {
    "ExecuteTime": {
     "end_time": "2025-06-24T02:01:10.588338Z",
     "start_time": "2025-06-24T02:01:00.632224Z"
    }
   },
   "cell_type": "code",
   "source": [
    "viewer.screenshot(path=r\"D:\\Zuohan\\neuron\\both_raw.png\", canvas_only=True)\n",
    "viewer.scale_bar.visible = False\n",
    "viewer.screenshot(path=r\"D:\\Zuohan\\neuron\\both_raw_no_scale.png\", canvas_only=True)\n",
    "layers[0].visible = False\n",
    "viewer.screenshot(path=r\"D:\\Zuohan\\neuron\\crystal_raw.png\", canvas_only=True)\n",
    "layers[1].visible = False\n",
    "layers[0].visible = True\n",
    "viewer.screenshot(path=r\"D:\\Zuohan\\neuron\\neuron_raw.png\", canvas_only=True)\n",
    "viewer.close()"
   ],
   "id": "f71233b960756f55",
   "outputs": [],
   "execution_count": 6
  },
  {
   "metadata": {},
   "cell_type": "markdown",
   "source": "# seg only",
   "id": "636aa3ceb81aec95"
  },
  {
   "metadata": {
    "ExecuteTime": {
     "end_time": "2025-06-22T21:02:16.588443Z",
     "start_time": "2025-06-22T21:01:47.826098Z"
    }
   },
   "cell_type": "code",
   "source": [
    "viewer = napari.Viewer(ndisplay=3)\n",
    "layer = viewer.add_labels(lab_n, opacity=.8, scale=reader.resolution)\n",
    "layer.iso_gradient_mode = 'smooth'\n",
    "layer = viewer.add_labels(lab_c, opacity=.8, scale=reader.resolution)\n",
    "layer.iso_gradient_mode = 'smooth'\n",
    "layer = viewer.add_image(img_n, opacity=.7, blending='additive', scale=reader.resolution)\n",
    "layer.contrast_limits = [3587.828571428571, 14532.678571428572]\n",
    "bbox = layer.bounding_box\n",
    "bbox.visible = True\n",
    "bbox.line_color = 'white'\n",
    "bbox.line_thickness = 2\n",
    "bbox.point_size = 0\n",
    "viewer.camera.zoom = 5\n",
    "viewer.camera.perspective = 30\n",
    "viewer.camera.angles = (-1.5, 20, 85)"
   ],
   "id": "6da3addb4e91c7db",
   "outputs": [],
   "execution_count": 54
  },
  {
   "metadata": {
    "ExecuteTime": {
     "end_time": "2025-06-22T21:02:29.557698Z",
     "start_time": "2025-06-22T21:02:16.637226Z"
    }
   },
   "cell_type": "code",
   "source": [
    "viewer.layers[1].visible = False\n",
    "viewer.screenshot(path=r\"D:\\Zuohan\\neuron\\neuron_seg.png\", canvas_only=True)\n",
    "viewer.layers[1].visible = True\n",
    "viewer.layers[0].visible = False\n",
    "viewer.screenshot(path=r\"D:\\Zuohan\\neuron\\crystal_seg.png\", canvas_only=True)\n",
    "viewer.close()"
   ],
   "id": "bb600c52dbfb699d",
   "outputs": [],
   "execution_count": 55
  },
  {
   "metadata": {},
   "cell_type": "markdown",
   "source": [
    "# Paired\n",
    "Load pair info"
   ],
   "id": "770f0f8a2d09386e"
  },
  {
   "metadata": {
    "ExecuteTime": {
     "end_time": "2025-06-22T21:01:01.534881Z",
     "start_time": "2025-06-22T21:01:01.521939Z"
    }
   },
   "cell_type": "code",
   "source": [
    "import pandas as pd\n",
    "import numpy as np\n",
    "from scipy.stats import rankdata\n",
    "pairs = pd.read_csv(r\"D:\\Zuohan\\neuron\\pair.csv\")\n",
    "remove = [262, 3]\n",
    "pairs = pairs[~pairs['neuron'].isin(remove)]\n",
    "pairs['rank'] = rankdata(pairs['neuron'], method='min')\n",
    "pairs = pairs.sort_values('rank')\n",
    "pairs.to_csv(r\"D:\\Zuohan\\neuron\\pair_filtered.csv\", index=False)"
   ],
   "id": "acaf4abfe0d0d1fa",
   "outputs": [],
   "execution_count": 52
  },
  {
   "metadata": {
    "ExecuteTime": {
     "end_time": "2025-06-22T21:01:12.918810Z",
     "start_time": "2025-06-22T21:01:01.820730Z"
    }
   },
   "cell_type": "code",
   "source": [
    "a1 = np.isin(lab_c, pairs['crystal'])\n",
    "a2 = np.isin(lab_n, pairs['neuron'])"
   ],
   "id": "84b4836620e3d8a2",
   "outputs": [],
   "execution_count": 53
  },
  {
   "metadata": {
    "ExecuteTime": {
     "end_time": "2025-06-22T21:12:50.839239Z",
     "start_time": "2025-06-22T21:12:46.791897Z"
    }
   },
   "cell_type": "code",
   "source": [
    "import napari\n",
    "viewer = napari.Viewer(ndisplay=3)\n",
    "layer = viewer.add_image(img_n, opacity=.7, blending='additive', scale=reader.resolution)\n",
    "layer.contrast_limits = [3587.828571428571, 14532.678571428572]\n",
    "viewer.add_labels(a1, name='crystal', opacity=.7, colormap={1: 'red', None: [0, 0, 0, 0]}, blending='additive', scale=reader.resolution)\n",
    "viewer.add_labels(a2, name='neuron', opacity=.7, colormap={1: 'green', None: [0, 0, 0, 0]}, blending='additive', scale=reader.resolution)\n",
    "viewer.layers[1].iso_gradient_mode = 'smooth'\n",
    "viewer.layers[2].iso_gradient_mode = 'smooth'\n",
    "bbox = layer.bounding_box\n",
    "bbox.visible = True\n",
    "bbox.line_color = 'white'\n",
    "bbox.line_thickness = 2\n",
    "bbox.point_size = 0\n",
    "viewer.camera.perspective = 30\n",
    "viewer.camera.zoom = 5\n",
    "viewer.camera.angles = (-1.5, 20, 85)"
   ],
   "id": "initial_id",
   "outputs": [],
   "execution_count": 58
  },
  {
   "metadata": {},
   "cell_type": "markdown",
   "source": "adjust viz",
   "id": "9285dc48e16931f7"
  },
  {
   "metadata": {
    "ExecuteTime": {
     "end_time": "2025-06-22T21:13:00.805948Z",
     "start_time": "2025-06-22T21:13:00.190909Z"
    }
   },
   "cell_type": "code",
   "source": [
    "viewer.screenshot(path=r\"D:\\Zuohan\\neuron\\pairs_all.png\", canvas_only=True)\n",
    "viewer.close()"
   ],
   "id": "506d298e65aa1b33",
   "outputs": [],
   "execution_count": 59
  },
  {
   "metadata": {},
   "cell_type": "markdown",
   "source": "# Number",
   "id": "789df86381b312b9"
  },
  {
   "metadata": {
    "ExecuteTime": {
     "end_time": "2025-06-22T21:13:38.335244Z",
     "start_time": "2025-06-22T21:13:38.323237Z"
    }
   },
   "cell_type": "code",
   "source": [
    "neurons_df = pd.read_csv(r\"D:\\Zuohan\\neuron\\neuron_prop.csv\", index_col='label')\n",
    "n = np.unique(pairs['neuron'])\n",
    "centers = neurons_df.loc[n, ['z', 'y', 'x']].to_numpy()"
   ],
   "id": "4835e29ba704485c",
   "outputs": [],
   "execution_count": 60
  },
  {
   "metadata": {
    "ExecuteTime": {
     "end_time": "2025-06-23T01:24:04.376380Z",
     "start_time": "2025-06-23T01:23:51.392959Z"
    }
   },
   "cell_type": "code",
   "source": [
    "import napari\n",
    "viewer = napari.Viewer(ndisplay=3)\n",
    "layer = viewer.add_image(img_n, opacity=.7, blending='additive', scale=reader.resolution)\n",
    "layer.contrast_limits = [3587.828571428571, 14532.678571428572]\n",
    "viewer.add_labels(lab_n, opacity=.7, blending='additive', scale=reader.resolution, rendering='translucent')\n",
    "viewer.layers[1].iso_gradient_mode = 'smooth'\n",
    "# layer.bounding_box.visible = True\n",
    "# layer.bounding_box.line_color = 'white'\n",
    "# layer.bounding_box.line_thickness = 2\n",
    "# layer.bounding_box.point_size = 0\n",
    "viewer.add_points(\n",
    "    neurons_df[['z', 'y', 'x']],\n",
    "    features={'no': np.arange(len(neurons_df.index)) + 1},\n",
    "    text={\n",
    "        'string': '{no}',\n",
    "        'size': 6,\n",
    "        'scaling': True,\n",
    "        'color': 'white',\n",
    "        'translation': np.array([0, -20, 0]),\n",
    "    },\n",
    "    size=10,\n",
    "    face_color='red', scale=reader.resolution,\n",
    ")\n",
    "viewer.camera.zoom = 5\n",
    "viewer.camera.angles = (0, 0, 90)\n",
    "viewer.scale_bar.visible = True\n",
    "viewer.scale_bar.unit = 'μm'\n",
    "viewer.scale_bar.length = 20\n",
    "viewer.scale_bar.font_size *= 1.5"
   ],
   "id": "7c2b7a81cd4173f8",
   "outputs": [],
   "execution_count": 76
  },
  {
   "metadata": {
    "ExecuteTime": {
     "end_time": "2025-06-23T01:24:05.718619Z",
     "start_time": "2025-06-23T01:24:04.424230Z"
    }
   },
   "cell_type": "code",
   "source": [
    "viewer.screenshot(path=r\"D:\\Zuohan\\neuron\\numbers.png\", canvas_only=True)\n",
    "viewer.scale_bar.visible = False\n",
    "viewer.screenshot(path=r\"D:\\Zuohan\\neuron\\numbers_no_scale.png\", canvas_only=True)\n",
    "viewer.close()"
   ],
   "id": "326a1640f450bcf7",
   "outputs": [],
   "execution_count": 77
  },
  {
   "metadata": {},
   "cell_type": "code",
   "outputs": [],
   "execution_count": null,
   "source": "",
   "id": "3d65e6cba61c5467"
  }
 ],
 "metadata": {
  "kernelspec": {
   "display_name": "Python 3",
   "language": "python",
   "name": "python3"
  },
  "language_info": {
   "codemirror_mode": {
    "name": "ipython",
    "version": 2
   },
   "file_extension": ".py",
   "mimetype": "text/x-python",
   "name": "python",
   "nbconvert_exporter": "python",
   "pygments_lexer": "ipython2",
   "version": "2.7.6"
  }
 },
 "nbformat": 4,
 "nbformat_minor": 5
}
