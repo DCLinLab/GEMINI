{
 "cells": [
  {
   "metadata": {},
   "cell_type": "raw",
   "source": "neuron soma seg",
   "id": "1a2bbe86eb05f450"
  },
  {
   "cell_type": "code",
   "id": "initial_id",
   "metadata": {
    "collapsed": true,
    "ExecuteTime": {
     "end_time": "2025-06-24T03:47:00.602650Z",
     "start_time": "2025-06-24T03:47:00.367687Z"
    }
   },
   "source": [
    "import yaml\n",
    "from pathlib import Path\n",
    "from CrystalTracer3D.io import CrystalReader\n",
    "with open('config.yml', 'r') as ymlfile:\n",
    "    cfg = yaml.safe_load(ymlfile)\n",
    "    in_img = Path(cfg['data']['path'])\n",
    "    out_dir = Path(cfg['data']['segmentation'])\n",
    "    seg_chan = cfg['data']['neuron']\n",
    "    slice_range = cfg['data']['range']\n",
    "\n",
    "\n",
    "reader = CrystalReader(in_img)\n",
    "ch = reader.find_channel(seg_chan)\n",
    "img = reader.read(ch)[slice_range[0]:slice_range[1]]\n"
   ],
   "outputs": [],
   "execution_count": 13
  },
  {
   "metadata": {
    "ExecuteTime": {
     "end_time": "2025-06-24T03:47:02.686465Z",
     "start_time": "2025-06-24T03:47:01.563415Z"
    }
   },
   "cell_type": "code",
   "source": [
    "import napari\n",
    "\n",
    "viewer = napari.Viewer(ndisplay=3)\n",
    "ch = reader.find_channel(cfg['data']['crystal'])\n",
    "viewer.add_image(reader.read(ch))"
   ],
   "id": "b6fd08f592baa437",
   "outputs": [
    {
     "data": {
      "text/plain": [
       "<Image layer 'Image' at 0x17b34bd5060>"
      ]
     },
     "execution_count": 14,
     "metadata": {},
     "output_type": "execute_result"
    }
   ],
   "execution_count": 14
  },
  {
   "metadata": {
    "ExecuteTime": {
     "end_time": "2025-06-24T03:48:26.999814Z",
     "start_time": "2025-06-24T03:48:26.986871Z"
    }
   },
   "cell_type": "code",
   "source": "viewer.layers[0].contrast_limits",
   "id": "40d98dedd6cb3b79",
   "outputs": [
    {
     "data": {
      "text/plain": [
       "[11967.714285714284, 25246.285714285714]"
      ]
     },
     "execution_count": 17,
     "metadata": {},
     "output_type": "execute_result"
    }
   ],
   "execution_count": 17
  },
  {
   "metadata": {},
   "cell_type": "markdown",
   "source": "smoothing",
   "id": "619c3508054efeac"
  },
  {
   "metadata": {
    "ExecuteTime": {
     "end_time": "2025-06-17T21:57:54.316250Z",
     "start_time": "2025-06-17T21:57:23.505040Z"
    }
   },
   "cell_type": "code",
   "source": [
    "from skimage.filters import gaussian\n",
    "\n",
    "smoothed = gaussian(img[:350], 3)"
   ],
   "id": "8a72e304bd1fa9a9",
   "outputs": [],
   "execution_count": 10
  },
  {
   "metadata": {
    "ExecuteTime": {
     "end_time": "2025-06-24T03:47:52.784633Z",
     "start_time": "2025-06-24T03:47:51.930399Z"
    }
   },
   "cell_type": "code",
   "source": [
    "import napari\n",
    "\n",
    "viewer = napari.Viewer()\n",
    "viewer.add_image(img)\n",
    "napari.run()"
   ],
   "id": "e40cd5aff44ef6c6",
   "outputs": [],
   "execution_count": 16
  },
  {
   "metadata": {},
   "cell_type": "markdown",
   "source": "find peaks morphologically",
   "id": "31a58e4d9fe1d06a"
  },
  {
   "metadata": {
    "ExecuteTime": {
     "end_time": "2025-06-17T21:37:20.041884Z",
     "start_time": "2025-06-17T21:31:38.470413Z"
    }
   },
   "cell_type": "code",
   "source": [
    "from skimage.morphology import reconstruction\n",
    "import numpy as np\n",
    "from tqdm import tqdm\n",
    "\n",
    "rec = []\n",
    "for i in tqdm(smoothed):\n",
    "    seed = np.copy(i)\n",
    "    seed[1:-1, 1:-1] = i.min()\n",
    "    mask = i\n",
    "    i = reconstruction(seed, mask, method='dilation')\n",
    "    rec.append(i)\n",
    "rec = np.stack(rec)\n",
    "peaks = smoothed - rec"
   ],
   "id": "95c8637d43839f2",
   "outputs": [
    {
     "name": "stderr",
     "output_type": "stream",
     "text": [
      "100%|██████████| 390/390 [05:36<00:00,  1.16it/s]\n"
     ]
    }
   ],
   "execution_count": 5
  },
  {
   "metadata": {
    "ExecuteTime": {
     "end_time": "2025-06-17T19:32:57.875396Z",
     "start_time": "2025-06-17T19:32:56.393925Z"
    }
   },
   "cell_type": "code",
   "source": [
    "import napari\n",
    "\n",
    "viewer = napari.Viewer()\n",
    "viewer.add_image(peaks)\n",
    "napari.run()"
   ],
   "id": "24627a84774bce1f",
   "outputs": [],
   "execution_count": 57
  },
  {
   "metadata": {
    "ExecuteTime": {
     "end_time": "2025-06-17T21:38:10.792103Z",
     "start_time": "2025-06-17T21:37:20.076734Z"
    }
   },
   "cell_type": "code",
   "source": [
    "import pyclesperanto_prototype as cle\n",
    "\n",
    "labels = cle.voronoi_otsu_labeling(peaks, spot_sigma=10, outline_sigma=1)\n"
   ],
   "id": "ca2d6b00c8b781ee",
   "outputs": [],
   "execution_count": 6
  },
  {
   "metadata": {
    "ExecuteTime": {
     "end_time": "2025-06-17T21:54:04.022109Z",
     "start_time": "2025-06-17T21:54:00.285443Z"
    }
   },
   "cell_type": "code",
   "source": [
    "import napari\n",
    "\n",
    "viewer = napari.Viewer()\n",
    "viewer.add_image(peaks)\n",
    "viewer.add_labels(labels)\n",
    "napari.run()"
   ],
   "id": "960761e03692a178",
   "outputs": [],
   "execution_count": 7
  },
  {
   "metadata": {},
   "cell_type": "markdown",
   "source": "# Test segmentation function",
   "id": "bcabb5887f86c757"
  },
  {
   "metadata": {
    "ExecuteTime": {
     "end_time": "2025-06-17T22:44:09.987829Z",
     "start_time": "2025-06-17T22:41:43.956691Z"
    }
   },
   "cell_type": "code",
   "source": [
    "from CrystalTracer3D.segment import segment_soma\n",
    "\n",
    "seg = segment_soma(img[:330])"
   ],
   "id": "127c4c006a45ac5f",
   "outputs": [
    {
     "data": {
      "text/plain": [
       "  0%|          | 0/330 [00:00<?, ?it/s]"
      ],
      "application/vnd.jupyter.widget-view+json": {
       "version_major": 2,
       "version_minor": 0,
       "model_id": "ef038c0cf4d0411da6591a4a42d10a1c"
      }
     },
     "metadata": {},
     "output_type": "display_data"
    }
   ],
   "execution_count": 17
  },
  {
   "metadata": {
    "ExecuteTime": {
     "end_time": "2025-06-17T22:44:13.552138Z",
     "start_time": "2025-06-17T22:44:11.810927Z"
    }
   },
   "cell_type": "code",
   "source": [
    "import napari\n",
    "\n",
    "viewer = napari.Viewer()\n",
    "viewer.add_image(img[:330])\n",
    "viewer.add_labels(seg)\n",
    "napari.run()"
   ],
   "id": "d7af6af07f663ee6",
   "outputs": [],
   "execution_count": 18
  },
  {
   "metadata": {},
   "cell_type": "markdown",
   "source": "# Check Crystal",
   "id": "a0245c3728d5a0b3"
  },
  {
   "metadata": {
    "ExecuteTime": {
     "end_time": "2025-06-23T20:31:10.640852Z",
     "start_time": "2025-06-23T20:31:05.327275Z"
    }
   },
   "cell_type": "code",
   "source": [
    "import nrrd\n",
    "\n",
    "data, _ = nrrd.read(r\"D:\\Zuohan\\neuron\\crystal.nrrd\")"
   ],
   "id": "19f5db64384a6126",
   "outputs": [],
   "execution_count": 13
  },
  {
   "metadata": {
    "ExecuteTime": {
     "end_time": "2025-06-22T03:51:37.637794Z",
     "start_time": "2025-06-22T03:51:29.071546Z"
    }
   },
   "cell_type": "code",
   "source": [
    "viewer = napari.Viewer()\n",
    "viewer.add_labels(data, opacity=.9, units=reader.resolution)\n",
    "viewer.add_image(img, opacity=.7, units=reader.resolution)\n",
    "napari.run()\n",
    "viewer.camera.perspective = 45\n",
    "viewer.dims.ndisplay = 3\n",
    "viewer.camera.zoom = 0.8\n",
    "viewer.camera.angles = (-5, 30, 80)"
   ],
   "id": "b1ff5b376f9734e4",
   "outputs": [],
   "execution_count": 74
  },
  {
   "metadata": {
    "ExecuteTime": {
     "end_time": "2025-06-20T10:05:05.312827Z",
     "start_time": "2025-06-20T10:05:03.227453Z"
    }
   },
   "cell_type": "code",
   "source": "viewer.screenshot(path=r\"D:\\Zuohan\\neuron\\crystal_check.png\", scale=2, canvas_only=True)",
   "id": "5f17f2ad21bf7610",
   "outputs": [
    {
     "data": {
      "text/plain": [
       "array([[[  0,   0,   0, 255],\n",
       "        [  0,   0,   0, 255],\n",
       "        [  0,   0,   0, 255],\n",
       "        ...,\n",
       "        [  0,   0,   0, 255],\n",
       "        [  0,   0,   0, 255],\n",
       "        [  0,   0,   0, 255]],\n",
       "\n",
       "       [[  0,   0,   0, 255],\n",
       "        [  0,   0,   0, 255],\n",
       "        [  0,   0,   0, 255],\n",
       "        ...,\n",
       "        [  0,   0,   0, 255],\n",
       "        [  0,   0,   0, 255],\n",
       "        [  0,   0,   0, 255]],\n",
       "\n",
       "       [[  0,   0,   0, 255],\n",
       "        [  0,   0,   0, 255],\n",
       "        [  0,   0,   0, 255],\n",
       "        ...,\n",
       "        [  0,   0,   0, 255],\n",
       "        [  0,   0,   0, 255],\n",
       "        [  0,   0,   0, 255]],\n",
       "\n",
       "       ...,\n",
       "\n",
       "       [[  0,   0,   0, 255],\n",
       "        [  0,   0,   0, 255],\n",
       "        [  0,   0,   0, 255],\n",
       "        ...,\n",
       "        [  0,   0,   0, 255],\n",
       "        [  0,   0,   0, 255],\n",
       "        [  0,   0,   0, 255]],\n",
       "\n",
       "       [[  0,   0,   0, 255],\n",
       "        [  0,   0,   0, 255],\n",
       "        [  0,   0,   0, 255],\n",
       "        ...,\n",
       "        [  0,   0,   0, 255],\n",
       "        [  0,   0,   0, 255],\n",
       "        [  0,   0,   0, 255]],\n",
       "\n",
       "       [[  0,   0,   0, 255],\n",
       "        [  0,   0,   0, 255],\n",
       "        [  0,   0,   0, 255],\n",
       "        ...,\n",
       "        [  0,   0,   0, 255],\n",
       "        [  0,   0,   0, 255],\n",
       "        [  0,   0,   0, 255]]], dtype=uint8)"
      ]
     },
     "execution_count": 51,
     "metadata": {},
     "output_type": "execute_result"
    }
   ],
   "execution_count": 51
  },
  {
   "metadata": {},
   "cell_type": "markdown",
   "source": "# Check neuron",
   "id": "8fc0b1771a1034b3"
  },
  {
   "metadata": {
    "ExecuteTime": {
     "end_time": "2025-06-23T20:23:44.813756Z",
     "start_time": "2025-06-23T20:23:41.863761Z"
    }
   },
   "cell_type": "code",
   "source": [
    "import nrrd\n",
    "import napari\n",
    "\n",
    "data, _ = nrrd.read(r\"D:\\Zuohan\\neuron2\\neuron.nrrd\")"
   ],
   "id": "de47145bb7746536",
   "outputs": [],
   "execution_count": 7
  },
  {
   "metadata": {
    "ExecuteTime": {
     "end_time": "2025-06-23T20:28:12.777552Z",
     "start_time": "2025-06-23T20:28:06.851143Z"
    }
   },
   "cell_type": "code",
   "source": [
    "viewer = napari.Viewer()\n",
    "viewer.add_labels(data, opacity=.9, scale=reader.resolution, blending='additive')\n",
    "viewer.add_image(img, opacity=.7, scale=reader.resolution)\n",
    "napari.run()\n",
    "viewer.layers[0].iso_gradient_mode = 'smooth'\n",
    "viewer.camera.perspective = 45\n",
    "viewer.dims.ndisplay = 3\n",
    "viewer.camera.zoom = 0.8\n",
    "viewer.camera.angles = (-5, 30, 80)"
   ],
   "id": "fe63e3f191c9b075",
   "outputs": [],
   "execution_count": 10
  },
  {
   "metadata": {
    "ExecuteTime": {
     "end_time": "2025-06-23T20:29:20.566166Z",
     "start_time": "2025-06-23T20:29:20.547103Z"
    }
   },
   "cell_type": "code",
   "source": "viewer.layers[1].contrast_limits",
   "id": "b20c1fdec1202209",
   "outputs": [
    {
     "data": {
      "text/plain": [
       "[2840.0573248407645, 13763.904458598727]"
      ]
     },
     "execution_count": 12,
     "metadata": {},
     "output_type": "execute_result"
    }
   ],
   "execution_count": 12
  },
  {
   "metadata": {
    "ExecuteTime": {
     "end_time": "2025-06-21T01:10:47.300035Z",
     "start_time": "2025-06-21T01:10:45.232372Z"
    }
   },
   "cell_type": "code",
   "source": "viewer.screenshot(path=r\"D:\\Zuohan\\neuron\\neuron_check.png\", scale=2, canvas_only=True)",
   "id": "fb2ce96e211a3cd8",
   "outputs": [
    {
     "data": {
      "text/plain": [
       "array([[[  0,   0,   0, 255],\n",
       "        [  0,   0,   0, 255],\n",
       "        [  0,   0,   0, 255],\n",
       "        ...,\n",
       "        [  0,   0,   0, 255],\n",
       "        [  0,   0,   0, 255],\n",
       "        [  0,   0,   0, 255]],\n",
       "\n",
       "       [[  0,   0,   0, 255],\n",
       "        [  0,   0,   0, 255],\n",
       "        [  0,   0,   0, 255],\n",
       "        ...,\n",
       "        [  0,   0,   0, 255],\n",
       "        [  0,   0,   0, 255],\n",
       "        [  0,   0,   0, 255]],\n",
       "\n",
       "       [[  0,   0,   0, 255],\n",
       "        [  0,   0,   0, 255],\n",
       "        [  0,   0,   0, 255],\n",
       "        ...,\n",
       "        [  0,   0,   0, 255],\n",
       "        [  0,   0,   0, 255],\n",
       "        [  0,   0,   0, 255]],\n",
       "\n",
       "       ...,\n",
       "\n",
       "       [[  0,   0,   0, 255],\n",
       "        [  0,   0,   0, 255],\n",
       "        [  0,   0,   0, 255],\n",
       "        ...,\n",
       "        [  0,   0,   0, 255],\n",
       "        [  0,   0,   0, 255],\n",
       "        [  0,   0,   0, 255]],\n",
       "\n",
       "       [[  0,   0,   0, 255],\n",
       "        [  0,   0,   0, 255],\n",
       "        [  0,   0,   0, 255],\n",
       "        ...,\n",
       "        [  0,   0,   0, 255],\n",
       "        [  0,   0,   0, 255],\n",
       "        [  0,   0,   0, 255]],\n",
       "\n",
       "       [[  0,   0,   0, 255],\n",
       "        [  0,   0,   0, 255],\n",
       "        [  0,   0,   0, 255],\n",
       "        ...,\n",
       "        [  0,   0,   0, 255],\n",
       "        [  0,   0,   0, 255],\n",
       "        [  0,   0,   0, 255]]], dtype=uint8)"
      ]
     },
     "execution_count": 68,
     "metadata": {},
     "output_type": "execute_result"
    }
   ],
   "execution_count": 68
  }
 ],
 "metadata": {
  "kernelspec": {
   "display_name": "Python 3",
   "language": "python",
   "name": "python3"
  },
  "language_info": {
   "codemirror_mode": {
    "name": "ipython",
    "version": 2
   },
   "file_extension": ".py",
   "mimetype": "text/x-python",
   "name": "python",
   "nbconvert_exporter": "python",
   "pygments_lexer": "ipython2",
   "version": "2.7.6"
  }
 },
 "nbformat": 4,
 "nbformat_minor": 5
}
